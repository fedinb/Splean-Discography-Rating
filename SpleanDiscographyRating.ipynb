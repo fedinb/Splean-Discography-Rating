{
 "cells": [
  {
   "cell_type": "markdown",
   "metadata": {},
   "source": [
    "Import all necessary toolkits."
   ]
  },
  {
   "cell_type": "code",
   "execution_count": 1,
   "metadata": {},
   "outputs": [],
   "source": [
    "import pandas as pd\n",
    "import numpy as np\n",
    "import qgrid\n",
    "import matplotlib.pyplot as plt\n",
    "import matplotlib.style as style"
   ]
  },
  {
   "cell_type": "markdown",
   "metadata": {},
   "source": [
    "All float numbers below will have a percent sign next to them."
   ]
  },
  {
   "cell_type": "code",
   "execution_count": 2,
   "metadata": {},
   "outputs": [],
   "source": [
    "pd.options.display.float_format = '{:.0f}%'.format"
   ]
  },
  {
   "cell_type": "code",
   "execution_count": 3,
   "metadata": {},
   "outputs": [],
   "source": [
    "pd.set_option('display.width', 150)\n",
    "pd.options.display.max_colwidth = 150"
   ]
  },
  {
   "cell_type": "markdown",
   "metadata": {},
   "source": [
    "Importing an Excel-file with liked songs marked with Y and disliked songs marked with N."
   ]
  },
  {
   "cell_type": "code",
   "execution_count": 4,
   "metadata": {
    "scrolled": false
   },
   "outputs": [],
   "source": [
    "df = pd.read_excel(r'C:\MyFolder\\Splean Discography\\SpleanDiscography.xlsx')"
   ]
  },
  {
   "cell_type": "markdown",
   "metadata": {},
   "source": [
    "Below is the sample of initial data."
   ]
  },
  {
   "cell_type": "code",
   "execution_count": 5,
   "metadata": {
    "scrolled": false
   },
   "outputs": [
    {
     "name": "stdout",
     "output_type": "stream",
     "text": [
      "                Album Title             Song Title Rating  Release Year\n",
      "11            Pyl'naja Byl'                  Zveri      N          1994\n",
      "109  Razdvoyeniye lichnosti              Mobil'nyy      N          2007\n",
      "22        Fonar' pod glazom                Molitva      N          1997\n",
      "34        Granatovyy al'bom         Ves' etot bred      Y          1998\n",
      "180         Klyuch k shifru               Rekviyem      N          2016\n",
      "21   Kollektsioner oruzhiya         Idi cherez les      Y          1996\n",
      "115       Signal iz kosmosa        Nastroyka zvuka      N          2009\n",
      "53                Altavista  Mototsikletnaya tsep'      N          1999\n",
      "54                Altavista  Sumasshedshiy avtobus      N          1999\n",
      "198                  Taykom        Vozdushnyy shar      N          2019\n"
     ]
    }
   ],
   "source": [
    "print(df.sample(10))"
   ]
  },
  {
   "cell_type": "markdown",
   "metadata": {},
   "source": [
    "Now I replace Y and N with 1 and 0 for further calculations."
   ]
  },
  {
   "cell_type": "code",
   "execution_count": 6,
   "metadata": {},
   "outputs": [],
   "source": [
    "df['Rating'] = df['Rating'].replace([\"Y\",\"N\"],[1,0])"
   ]
  },
  {
   "cell_type": "markdown",
   "metadata": {},
   "source": [
    "Now I create a pivot table that will group all data per album title.\n",
    "\n",
    "Two columns are created: one represents the total count of songs in the album, the other shows the number of liked songs.\n",
    "\n",
    "Third column represents the ratio of liked songs, which is later added to the final dataframe."
   ]
  },
  {
   "cell_type": "code",
   "execution_count": 26,
   "metadata": {},
   "outputs": [],
   "source": [
    "dfPivot = pd.pivot_table(data=df,\n",
    "                         index=['Album Title','Release Year'],\n",
    "                         values=['Rating'],\n",
    "                         aggfunc=[len,sum]).reset_index().rename(columns={'Rating': 'Song Count'})\n",
    "\n",
    "dfPivot['Rating'] = (dfPivot['sum'] / dfPivot['len']) * 100"
   ]
  },
  {
   "cell_type": "markdown",
   "metadata": {},
   "source": [
    "Below we add a column with a simple ratio of liked songs and total number of songs in the album."
   ]
  },
  {
   "cell_type": "code",
   "execution_count": 27,
   "metadata": {},
   "outputs": [],
   "source": [
    "dfPivot['Comment'] = dfPivot['sum'].astype(str) +\"/\"+ dfPivot['len'].astype(str) +\" liked\""
   ]
  },
  {
   "cell_type": "code",
   "execution_count": 28,
   "metadata": {},
   "outputs": [],
   "source": [
    "dfRating = dfPivot[['Album Title','Release Year','Rating','Comment']]"
   ]
  },
  {
   "cell_type": "markdown",
   "metadata": {},
   "source": [
    "Now we get rid of multindex created during pivoting."
   ]
  },
  {
   "cell_type": "code",
   "execution_count": 29,
   "metadata": {},
   "outputs": [],
   "source": [
    "dfRating.columns = dfRating.columns.droplevel(1)"
   ]
  },
  {
   "cell_type": "code",
   "execution_count": 30,
   "metadata": {},
   "outputs": [],
   "source": [
    "dfRating = dfRating.sort_values(by='Rating',ascending=False)"
   ]
  },
  {
   "cell_type": "code",
   "execution_count": 31,
   "metadata": {},
   "outputs": [],
   "source": [
    "dfRating = dfRating.reset_index(drop=True)"
   ]
  },
  {
   "cell_type": "code",
   "execution_count": 32,
   "metadata": {
    "scrolled": true
   },
   "outputs": [
    {
     "name": "stdout",
     "output_type": "stream",
     "text": [
      "                      Album Title  Release Year  Rating      Comment\n",
      "0                       25-y kadr          2001     79%  11/14 liked\n",
      "1               Fonar' pod glazom          1997     67%   8/12 liked\n",
      "2                    Novyye lyudi          2003     64%   7/11 liked\n",
      "3          Razdvoyeniye lichnosti          2007     59%  10/17 liked\n",
      "4              Rezonans. Chast' 1          2014     57%   8/14 liked\n",
      "5   Reversivnaya khronika sobytiy          2004     53%   8/15 liked\n",
      "6               Granatovyy al'bom          1998     50%   6/12 liked\n",
      "7               Signal iz kosmosa          2009     50%   9/18 liked\n",
      "8                   Obman zreniya          2012     50%   7/14 liked\n",
      "9                       Altavista          1999     42%   5/12 liked\n",
      "10         Kollektsioner oruzhiya          1996     40%   4/10 liked\n",
      "11             Rezonans. Chast' 2          2014     27%   3/11 liked\n",
      "12                  Pyl'naja Byl'          1994     17%   2/12 liked\n",
      "13                   Vira i mayna          2020      9%   1/11 liked\n",
      "14             Vstrechnaya polosa          2018      9%   1/11 liked\n",
      "15                Klyuch k shifru          2016      7%   1/15 liked\n",
      "16                         Taykom          2019      0%    0/7 liked\n"
     ]
    }
   ],
   "source": [
    "print(dfRating)"
   ]
  },
  {
   "cell_type": "code",
   "execution_count": 33,
   "metadata": {},
   "outputs": [],
   "source": [
    "dfRating = dfRating.sort_values(by='Release Year',ascending=False)"
   ]
  },
  {
   "cell_type": "markdown",
   "metadata": {},
   "source": [
    "Chart below shows how my personal rating has been changing."
   ]
  },
  {
   "cell_type": "code",
   "execution_count": 34,
   "metadata": {
    "scrolled": false
   },
   "outputs": [
    {
     "data": {
      "image/png": "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\n",
      "text/plain": [
       "<Figure size 864x360 with 1 Axes>"
      ]
     },
     "metadata": {},
     "output_type": "display_data"
    }
   ],
   "source": [
    "x = 'Release Year'\n",
    "y = 'Rating'\n",
    "\n",
    "style.use('fivethirtyeight') # Style by FiveThirtyEight\n",
    "dfRating.plot(x,y,\n",
    "           kind='line',\n",
    "           figsize=(12,5),\n",
    "           color='r',\n",
    "           legend=None)\n",
    "\n",
    "plt.title('My Personal Splean Discography Rating',fontsize=14,color='b')\n",
    "plt.xlabel('Release Year',fontsize=12,labelpad=12)\n",
    "plt.ylabel('Rating, %',fontsize=12,labelpad=12) \n",
    "plt.grid(linestyle='--')\n",
    "\n",
    "x_limits = plt.xlim()\n",
    "x_datalabel = x_limits[1]\n",
    "\n",
    "y_limits = plt.ylim()\n",
    "y_datalabel = y_limits[1]\n",
    "\n",
    "arrowprops=dict(arrowstyle='->', color='b', linewidth=2, mutation_scale=10)\n",
    "\n",
    "plt.annotate(dfRating['Album Title'].iloc[-13],      # Annotation for album Rezonans. Chast'2\n",
    "             xy=(x_datalabel-7.3,y_datalabel-24.5),\n",
    "             xytext=(x_datalabel-6,y_datalabel-19),\n",
    "             arrowprops=arrowprops)\n",
    "\n",
    "plt.annotate(dfRating['Album Title'].iloc[-6],      # Annotation for album 25-y kadr\n",
    "             xy=(x_datalabel-20.4,y_datalabel-3.5),\n",
    "             xytext=(x_datalabel-24.7,y_datalabel-10),\n",
    "             arrowprops=arrowprops)\n",
    "\n",
    "plt.show()"
   ]
  },
  {
   "cell_type": "markdown",
   "metadata": {},
   "source": [
    "As we can see above, my personal rating for Splean albums has drastically decreased after album *Rezonans. Chast'2* released in 2014. Unfortunately I didn't like all 5 next albums.\n",
    "\n",
    "However, I'm not sad at all! I've got plenty of older songs I truly enjoy. For example, almost each song from album *25-y kadr*, which has the highest rating: 79%."
   ]
  },
  {
   "cell_type": "code",
   "execution_count": null,
   "metadata": {},
   "outputs": [],
   "source": []
  }
 ],
 "metadata": {
  "celltoolbar": "Отсутствует",
  "kernelspec": {
   "display_name": "Python 3",
   "language": "python",
   "name": "python3"
  },
  "language_info": {
   "codemirror_mode": {
    "name": "ipython",
    "version": 3
   },
   "file_extension": ".py",
   "mimetype": "text/x-python",
   "name": "python",
   "nbconvert_exporter": "python",
   "pygments_lexer": "ipython3",
   "version": "3.8.3"
  }
 },
 "nbformat": 4,
 "nbformat_minor": 4
}
